{
 "cells": [
  {
   "cell_type": "markdown",
   "id": "f524ca62",
   "metadata": {},
   "source": [
    "# Analysis summary"
   ]
  },
  {
   "cell_type": "markdown",
   "id": "7726758a",
   "metadata": {},
   "source": [
    "## Purpose"
   ]
  },
  {
   "cell_type": "markdown",
   "id": "deb09063",
   "metadata": {},
   "source": [
    "The purpose of this analysis was to develop a model that could be used to predict success of grant applicants for their projects. \n",
    "\n",
    "Success was modeled based on:\n",
    "* Application type\n",
    "* Affiliation (independent, company sponsored)\n",
    "* Classification\n",
    "* Use (e.g., product development, healthcare)\n",
    "* Type of organization\n",
    "* Income \n",
    "* Other considerations\n",
    "\n",
    "Information on company name and EIN were removed from the data."
   ]
  },
  {
   "cell_type": "markdown",
   "id": "8ebbc24b",
   "metadata": {},
   "source": [
    "## Model"
   ]
  },
  {
   "cell_type": "markdown",
   "id": "df25ab1b",
   "metadata": {},
   "source": [
    "The goal of the model was to achieve 75% accuracy in prediction. A model with three layers was developed. Despite changing the number of units at each level of the model, 75% accuracy was not achieved. The maximum accuracy was just under 73%. \n",
    "\n",
    "It may be that the parameters that predict success vary depending on factors such as the use of the model. For instance, product development may rest more heavily on corporate resources than healthcare. One consideration for future analysis would be to develop separate models for applications of different types of use to acknowledge this difference. "
   ]
  },
  {
   "cell_type": "code",
   "execution_count": null,
   "id": "e0ccad70",
   "metadata": {},
   "outputs": [],
   "source": []
  }
 ],
 "metadata": {
  "kernelspec": {
   "display_name": "Python 3 (ipykernel)",
   "language": "python",
   "name": "python3"
  },
  "language_info": {
   "codemirror_mode": {
    "name": "ipython",
    "version": 3
   },
   "file_extension": ".py",
   "mimetype": "text/x-python",
   "name": "python",
   "nbconvert_exporter": "python",
   "pygments_lexer": "ipython3",
   "version": "3.10.11"
  }
 },
 "nbformat": 4,
 "nbformat_minor": 5
}
